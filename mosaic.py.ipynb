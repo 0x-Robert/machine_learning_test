{
 "cells": [
  {
   "cell_type": "code",
   "execution_count": null,
   "metadata": {},
   "outputs": [],
   "source": [
    "#OPENCV로 모자이크 처리하기\n",
    "#OpenCV에는 흐림 효과 또는 테두리 검출과 같은 필터함수가 있지만 모자이크 처리를 하는 함수는 없음 모자이크 처리하는\n",
    "#함수를 mosaic()이라는 이름으로 정의하고 mosaic.py라는 모듈파일로 만들기\n",
    "\n",
    "import cv2\n",
    "\n",
    "def mosaic(img, rect, size):\n",
    "    #모자이크 적용할 부분 추출하기\n",
    "    (x1,y1,x2,y2) = rect\n",
    "    w = x2 -x1\n",
    "    h = y2 -y1\n",
    "    i_rect = img[y1:y2, x1:x2]\n",
    "    #축소하고 확대하기\n",
    "    i_small = cv2.resize(i_rect,(size, size))\n",
    "    i_mos = cv2.resize(i_small, (w,h), interpolation=cv2.INTER_AREA)\n",
    "    \n",
    "    #모자이크 적용\n",
    "    img2 = img.copy()\n",
    "    img2[y1:y2, x1:x2] = i_mos\n",
    "    return img2\n",
    "\n",
    "\n",
    "\n"
   ]
  },
  {
   "cell_type": "code",
   "execution_count": null,
   "metadata": {},
   "outputs": [],
   "source": [
    "import matplotlib.pyplot as plt\n",
    "import cv2\n",
    "from mosaic import mosaic as mosaic\n",
    "\n",
    "\n",
    "\n",
    "#이미지를 읽어 들이고 모자이크 처리하기\n",
    "img = cv2.imread(\"cat.jpg\")\n",
    "mos = mosaic(img,(50,50,450,450),10 )\n",
    "\n",
    "#이미지 출력하기\n",
    "cv2.imwrite(\"cat-mosaic.png\", mos)\n",
    "plt.imshow(cv2.cvtColor(mos,cv2.COLOR_BGR2RGB))\n",
    "plt.show()"
   ]
  },
  {
   "cell_type": "code",
   "execution_count": null,
   "metadata": {},
   "outputs": [],
   "source": []
  },
  {
   "cell_type": "code",
   "execution_count": null,
   "metadata": {},
   "outputs": [],
   "source": []
  },
  {
   "cell_type": "code",
   "execution_count": null,
   "metadata": {},
   "outputs": [],
   "source": []
  },
  {
   "cell_type": "code",
   "execution_count": null,
   "metadata": {},
   "outputs": [],
   "source": []
  }
 ],
 "metadata": {
  "kernelspec": {
   "display_name": "Python 3",
   "language": "python",
   "name": "python3"
  }
 },
 "nbformat": 4,
 "nbformat_minor": 2
}
