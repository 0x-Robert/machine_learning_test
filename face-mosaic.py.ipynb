{
 "cells": [
  {
   "cell_type": "code",
   "execution_count": 1,
   "metadata": {},
   "outputs": [
    {
     "data": {
      "text/plain": [
       "<Figure size 640x480 with 1 Axes>"
      ]
     },
     "metadata": {},
     "output_type": "display_data"
    }
   ],
   "source": [
    "import matplotlib.pyplot as plt\n",
    "import cv2\n",
    "from mosaic import mosaic as mosaic\n",
    "\n",
    "\n",
    "#캐스케이드 파일 지정해서 검출기 생성하기\n",
    "cascade_file = \"haarcascade_frontalface_alt.xml\"\n",
    "cascade = cv2.CascadeClassifier(cascade_file)\n",
    "\n",
    "#이미지를 읽어 들이고 그레이스케일로 변환하기\n",
    "img = cv2.imread(\"family.jpg\")\n",
    "img_gray = cv2.cvtColor(img, cv2.COLOR_BGR2GRAY)\n",
    "\n",
    "#얼굴 검출하기 \n",
    "face_list = cascade.detectMultiScale(img_gray, minSize=(150,150))\n",
    "if len(face_list) == 0: quit()\n",
    "    \n",
    "    \n",
    "#인식한 부분에 모자이크 처리하기\n",
    "for (x,y,w,h) in face_list:\n",
    "    img = mosaic(img, (x,y, x+w, y+h), 10)\n",
    "\n",
    "#이미지 출력하기\n",
    "cv2.imwrite(\"family-mosaic.png\", img)\n",
    "plt.imshow(cv2.cvtColor(img,cv2.COLOR_BGR2RGB))\n",
    "plt.show()"
   ]
  },
  {
   "cell_type": "code",
   "execution_count": null,
   "metadata": {},
   "outputs": [],
   "source": []
  }
 ],
 "metadata": {
  "kernelspec": {
   "display_name": "Python 3",
   "language": "python",
   "name": "python3"
  },
  "language_info": {
   "codemirror_mode": {
    "name": "ipython",
    "version": 3
   },
   "file_extension": ".py",
   "mimetype": "text/x-python",
   "name": "python",
   "nbconvert_exporter": "python",
   "pygments_lexer": "ipython3",
   "version": "3.7.3"
  }
 },
 "nbformat": 4,
 "nbformat_minor": 2
}
